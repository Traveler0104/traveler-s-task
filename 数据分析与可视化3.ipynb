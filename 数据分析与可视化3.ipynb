{
 "cells": [
  {
   "cell_type": "code",
   "execution_count": 1,
   "id": "822de2b7",
   "metadata": {},
   "outputs": [],
   "source": [
    "import pandas as pd\n",
    "import numpy as np\n",
    "import matplotlib.pyplot as plt"
   ]
  },
  {
   "cell_type": "code",
   "execution_count": 2,
   "id": "4e63c2a3",
   "metadata": {},
   "outputs": [],
   "source": [
    "data = pd.read_excel(\"E:/下载/超市营业额.xlsx\")"
   ]
  },
  {
   "cell_type": "code",
   "execution_count": 3,
   "id": "440796d3",
   "metadata": {},
   "outputs": [
    {
     "name": "stdout",
     "output_type": "stream",
     "text": [
      "     工号  姓名          日期           时段     交易额   柜台\n",
      "0  1001  张三  2019-03-01   9：00-14：00  1664.0  化妆品\n",
      "1  1002  李四  2019-03-01  14：00-21：00   954.0  化妆品\n",
      "2  1003  王五  2019-03-01   9：00-14：00  1407.0   食品\n",
      "3  1004  赵六  2019-03-01  14：00-21：00  1320.0   食品\n",
      "4  1005  周七  2019-03-01   9：00-14：00   994.0  日用品\n"
     ]
    }
   ],
   "source": [
    "# 1\n",
    "print(data.head())"
   ]
  },
  {
   "cell_type": "code",
   "execution_count": 4,
   "id": "dd0964c6",
   "metadata": {},
   "outputs": [
    {
     "name": "stdout",
     "output_type": "stream",
     "text": [
      "      工号  姓名     交易额\n",
      "3   1004  赵六  1320.0\n",
      "5   1006  钱八  1421.0\n",
      "10  1003  王五   936.0\n"
     ]
    }
   ],
   "source": [
    "# 1\n",
    "# (1)\n",
    "print(data.iloc[[3, 5, 10], [0, 1, 4]])"
   ]
  },
  {
   "cell_type": "code",
   "execution_count": 5,
   "id": "b820e431",
   "metadata": {},
   "outputs": [
    {
     "name": "stdout",
     "output_type": "stream",
     "text": [
      "   姓名          日期    柜台\n",
      "0  张三  2019-03-01   化妆品\n",
      "1  李四  2019-03-01   化妆品\n",
      "2  王五  2019-03-01    食品\n",
      "3  赵六  2019-03-01    食品\n",
      "4  周七  2019-03-01   日用品\n",
      "5  钱八  2019-03-01   日用品\n",
      "6  钱八  2019-03-01  蔬菜水果\n",
      "7  张三  2019-03-01  蔬菜水果\n",
      "8  张三  2019-03-02   化妆品\n",
      "9  李四  2019-03-02   化妆品\n"
     ]
    }
   ],
   "source": [
    "# (2)\n",
    "print(data[['姓名', '日期', '柜台']][:10])"
   ]
  },
  {
   "cell_type": "code",
   "execution_count": 6,
   "id": "dd7f3102",
   "metadata": {},
   "outputs": [
    {
     "name": "stdout",
     "output_type": "stream",
     "text": [
      "       工号  姓名          日期           时段    交易额    柜台\n",
      "76   1005  周七  2019-03-10   9：00-14：00   53.0   日用品\n",
      "86   1003  王五  2019-03-11   9：00-14：00  801.0  蔬菜水果\n",
      "97   1002  李四  2019-03-13  14：00-21：00   98.0   日用品\n",
      "163  1006  钱八  2019-03-21   9：00-14：00  807.0  蔬菜水果\n",
      "194  1001  张三  2019-03-25  14：00-21：00  114.0   化妆品\n"
     ]
    }
   ],
   "source": [
    "# (3)\n",
    "print(data[data['交易额']<810])"
   ]
  },
  {
   "cell_type": "code",
   "execution_count": 7,
   "id": "766180b8",
   "metadata": {},
   "outputs": [
    {
     "name": "stdout",
     "output_type": "stream",
     "text": [
      "       工号  姓名          日期           时段     交易额   柜台\n",
      "81   1002  李四  2019-03-11  14：00-21：00  1045.0  日用品\n",
      "89   1002  李四  2019-03-12  14：00-21：00   979.0  日用品\n",
      "97   1002  李四  2019-03-13  14：00-21：00    98.0  日用品\n",
      "106  1002  李四  2019-03-14  14：00-21：00   822.0  日用品\n",
      "113  1002  李四  2019-03-15   9：00-14：00  1798.0  日用品\n",
      "114  1002  李四  2019-03-15  14：00-21：00  1156.0  日用品\n",
      "121  1002  李四  2019-03-16   9：00-14：00  1788.0  日用品\n",
      "122  1002  李四  2019-03-16  14：00-21：00  1590.0  日用品\n",
      "129  1002  李四  2019-03-17   9：00-14：00   828.0  日用品\n"
     ]
    }
   ],
   "source": [
    "# (4)\n",
    "print(data[(data['姓名']=='李四') & (data['柜台']=='日用品')])"
   ]
  },
  {
   "cell_type": "code",
   "execution_count": 8,
   "id": "0107ce2d",
   "metadata": {},
   "outputs": [
    {
     "name": "stdout",
     "output_type": "stream",
     "text": [
      "78532.0\n"
     ]
    }
   ],
   "source": [
    "# (5)\n",
    "print(data[data['柜台']=='蔬菜水果']['交易额'].sum())"
   ]
  },
  {
   "cell_type": "code",
   "execution_count": 9,
   "id": "8b25ae9f",
   "metadata": {},
   "outputs": [
    {
     "name": "stdout",
     "output_type": "stream",
     "text": [
      "count      246.000000\n",
      "mean      1330.313008\n",
      "std        904.300720\n",
      "min         53.000000\n",
      "25%       1031.250000\n",
      "50%       1259.000000\n",
      "75%       1523.000000\n",
      "max      12100.000000\n",
      "Name: 交易额, dtype: float64\n"
     ]
    }
   ],
   "source": [
    "# 3\n",
    "# (1)\n",
    "print(data['交易额'].describe())"
   ]
  },
  {
   "cell_type": "code",
   "execution_count": 10,
   "id": "f8db472d",
   "metadata": {},
   "outputs": [
    {
     "name": "stdout",
     "output_type": "stream",
     "text": [
      "       工号  姓名          日期           时段    交易额    柜台\n",
      "76   1005  周七  2019-03-10   9：00-14：00   53.0   日用品\n",
      "97   1002  李四  2019-03-13  14：00-21：00   98.0   日用品\n",
      "194  1001  张三  2019-03-25  14：00-21：00  114.0   化妆品\n",
      "86   1003  王五  2019-03-11   9：00-14：00  801.0  蔬菜水果\n",
      "163  1006  钱八  2019-03-21   9：00-14：00  807.0  蔬菜水果\n",
      "248  1006  钱八  2019-03-31  14：00-21：00  812.0    食品\n",
      "41   1002  李四  2019-03-06  14：00-21：00  822.0   化妆品\n",
      "106  1002  李四  2019-03-14  14：00-21：00  822.0   日用品\n",
      "137  1002  李四  2019-03-18   9：00-14：00  824.0   化妆品\n",
      "59   1004  赵六  2019-03-08  14：00-21：00  825.0    食品\n"
     ]
    }
   ],
   "source": [
    "# (2)\n",
    "print(data.sort_values(by='交易额')[:10])"
   ]
  },
  {
   "cell_type": "code",
   "execution_count": 11,
   "id": "bbafd5db",
   "metadata": {},
   "outputs": [
    {
     "name": "stdout",
     "output_type": "stream",
     "text": [
      "姓名\n",
      "周七    47818.0\n",
      "张三    58130.0\n",
      "李四    58730.0\n",
      "王五    58892.0\n",
      "赵六    56069.0\n",
      "钱八    47618.0\n",
      "Name: 交易额, dtype: float64\n"
     ]
    }
   ],
   "source": [
    "# 4\n",
    "# (1)\n",
    "print(data.groupby(by='姓名')['交易额'].sum())"
   ]
  },
  {
   "cell_type": "code",
   "execution_count": 12,
   "id": "878926bd",
   "metadata": {},
   "outputs": [
    {
     "name": "stdout",
     "output_type": "stream",
     "text": [
      "柜台          化妆品          日用品         蔬菜水果           食品\n",
      "姓名                                                    \n",
      "周七  1189.500000  1169.363636  1174.500000  1285.142857\n",
      "张三  1209.210526  3104.833333  1210.833333  1323.000000\n",
      "李四  1279.187500  1122.666667  1292.388889  1224.000000\n",
      "王五  1264.000000  1261.888889  1163.666667  1925.000000\n",
      "赵六  1231.900000  1293.666667  1263.500000  1195.800000\n",
      "钱八          NaN  1324.777778  1325.785714  1318.000000\n"
     ]
    }
   ],
   "source": [
    "# (2)\n",
    "print(data.pivot_table(index='姓名', columns='柜台', values='交易额', aggfunc='mean'))"
   ]
  },
  {
   "cell_type": "code",
   "execution_count": 13,
   "id": "7c408868",
   "metadata": {},
   "outputs": [
    {
     "name": "stdout",
     "output_type": "stream",
     "text": [
      "       amax   amin         mean          std\n",
      "姓名                                          \n",
      "周七   1778.0   53.0  1195.450000   333.259424\n",
      "张三  12100.0  114.0  1529.736842  1791.458287\n",
      "李四   1798.0   98.0  1249.574468   355.702963\n",
      "王五   9031.0  801.0  1472.300000  1256.367152\n",
      "赵六   1775.0  825.0  1245.977778   285.401829\n",
      "钱八   1737.0  807.0  1322.722222   274.491594\n"
     ]
    }
   ],
   "source": [
    "# (3)\n",
    "print(data.groupby(by='姓名')['交易额'].agg([np.max, np.min, np.mean, np.std]))"
   ]
  },
  {
   "cell_type": "code",
   "execution_count": 14,
   "id": "df634ca5",
   "metadata": {},
   "outputs": [
    {
     "name": "stdout",
     "output_type": "stream",
     "text": [
      "日期\n",
      "2019-03-25    8498.0\n",
      "2019-03-21    8661.0\n",
      "2019-03-10    8789.0\n",
      "Name: 交易额, dtype: float64\n"
     ]
    }
   ],
   "source": [
    "# 5\n",
    "# (1)\n",
    "dayPay = data.groupby('日期')['交易额'].sum().sort_values()\n",
    "print(dayPay[:3])"
   ]
  },
  {
   "cell_type": "code",
   "execution_count": 15,
   "id": "c6bb3f3e",
   "metadata": {},
   "outputs": [
    {
     "name": "stdout",
     "output_type": "stream",
     "text": [
      "柜台\n",
      "化妆品     22975.0\n",
      "日用品     18629.0\n",
      "蔬菜水果     7265.0\n",
      "食品       9261.0\n",
      "Name: 张三, dtype: float64\n"
     ]
    },
    {
     "data": {
      "text/plain": [
       "<AxesSubplot:xlabel='柜台'>"
      ]
     },
     "execution_count": 15,
     "metadata": {},
     "output_type": "execute_result"
    },
    {
     "data": {
      "image/png": "[encoded data removed]",
      "text/plain": [
       "<Figure size 432x288 with 1 Axes>"
      ]
     },
     "metadata": {
      "needs_background": "light"
     },
     "output_type": "display_data"
    }
   ],
   "source": [
    "# (2)\n",
    "zhangsanCounterVolume = data.pivot_table(index='姓名', columns='柜台', values='交易额', aggfunc='sum').loc['张三']\n",
    "print(zhangsanCounterVolume)\n",
    "zhangsanCounterVolume.plot(kind='bar')"
   ]
  },
  {
   "cell_type": "code",
   "execution_count": 16,
   "id": "b499916e",
   "metadata": {
    "scrolled": false
   },
   "outputs": [
    {
     "name": "stdout",
     "output_type": "stream",
     "text": [
      "日期    2019-03-01  2019-03-02  2019-03-03  2019-03-04  2019-03-05  2019-03-06  \\\n",
      "柜台                                                                             \n",
      "化妆品       2618.0      2925.0      2395.0      2845.0      2847.0      1859.0   \n",
      "日用品       2415.0      2585.0      3049.0      2748.0      2827.0      2898.0   \n",
      "蔬菜水果      2668.0      2828.0      2711.0      2304.0      2548.0      2940.0   \n",
      "食品        2727.0      1842.0      2949.0      3263.0      2661.0      2445.0   \n",
      "\n",
      "日期    2019-03-07  2019-03-08  2019-03-09  2019-03-10  ...  2019-03-22  \\\n",
      "柜台                                                    ...               \n",
      "化妆品       2912.0      2051.0      2488.0      2496.0  ...      2313.0   \n",
      "日用品       2415.0      2717.0      2099.0      1033.0  ...      2479.0   \n",
      "蔬菜水果      2094.0      2576.0      2788.0      2613.0  ...      2419.0   \n",
      "食品        2282.0      1898.0      2723.0      2647.0  ...      2940.0   \n",
      "\n",
      "日期    2019-03-23  2019-03-24  2019-03-25  2019-03-26  2019-03-27  2019-03-28  \\\n",
      "柜台                                                                             \n",
      "化妆品       2567.0      2910.0       974.0      3709.0      1649.0      2643.0   \n",
      "日用品       3298.0      2466.0      2485.0      2990.0      2300.0      2434.0   \n",
      "蔬菜水果      3069.0      3372.0      2512.0      2396.0      2011.0      1941.0   \n",
      "食品        2799.0      2251.0      2527.0      2346.0      2996.0     10250.0   \n",
      "\n",
      "日期    2019-03-29  2019-03-30  2019-03-31  \n",
      "柜台                                        \n",
      "化妆品       3147.0      2538.0      2595.0  \n",
      "日用品       2312.0      2657.0      3390.0  \n",
      "蔬菜水果      2800.0      2199.0      1903.0  \n",
      "食品        3043.0      2122.0      2086.0  \n",
      "\n",
      "[4 rows x 31 columns]\n"
     ]
    },
    {
     "data": {
      "text/plain": [
       "<AxesSubplot:xlabel='日期'>"
      ]
     },
     "execution_count": 16,
     "metadata": {},
     "output_type": "execute_result"
    },
    {
     "data": {
      "image/png": "[encoded data removed]",
      "text/plain": [
       "<Figure size 432x288 with 1 Axes>"
      ]
     },
     "metadata": {
      "needs_background": "light"
     },
     "output_type": "display_data"
    }
   ],
   "source": [
    "counterEverydayVolume = data.pivot_table(index='柜台', columns='日期', values='交易额', aggfunc='sum')\n",
    "cosmeticsEverydayVolume = counterEverydayVolume.loc['化妆品']\n",
    "dailyEverydayVolume = counterEverydayVolume.loc['日用品']\n",
    "vegetablesEverydayVolume = counterEverydayVolume.loc['蔬菜水果']\n",
    "foodEverydayVolume = counterEverydayVolume.loc['食品']\n",
    "print(counterEverydayVolume)\n",
    "cosmeticsEverydayVolume.plot()\n",
    "dailyEverydayVolume.plot()\n",
    "vegetablesEverydayVolume.plot()\n",
    "foodEverydayVolume.plot()"
   ]
  },
  {
   "cell_type": "code",
   "execution_count": null,
   "id": "0e8d11d5",
   "metadata": {},
   "outputs": [],
   "source": []
  }
 ],
 "metadata": {
  "kernelspec": {
   "display_name": "Python 3 (ipykernel)",
   "language": "python",
   "name": "python3"
  },
  "language_info": {
   "codemirror_mode": {
    "name": "ipython",
    "version": 3
   },
   "file_extension": ".py",
   "mimetype": "text/x-python",
   "name": "python",
   "nbconvert_exporter": "python",
   "pygments_lexer": "ipython3",
   "version": "3.9.7"
  }
 },
 "nbformat": 4,
 "nbformat_minor": 5
}
